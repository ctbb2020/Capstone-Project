{
  "nbformat": 4,
  "nbformat_minor": 0,
  "metadata": {
    "kernelspec": {
      "name": "python3",
      "display_name": "Python 3.7",
      "language": "python"
    },
    "language_info": {
      "name": "python",
      "version": "3.7.9",
      "mimetype": "text/x-python",
      "codemirror_mode": {
        "name": "ipython",
        "version": 3
      },
      "pygments_lexer": "ipython3",
      "nbconvert_exporter": "python",
      "file_extension": ".py"
    },
    "colab": {
      "name": "Capstone project (week 4).ipynb",
      "provenance": [],
      "include_colab_link": true
    }
  },
  "cells": [
    {
      "cell_type": "markdown",
      "metadata": {
        "id": "view-in-github",
        "colab_type": "text"
      },
      "source": [
        "<a href=\"https://colab.research.google.com/github/hongyuaw/Coursera_Capstone/blob/Master/Capstone_project_(week_4).ipynb\" target=\"_parent\"><img src=\"https://colab.research.google.com/assets/colab-badge.svg\" alt=\"Open In Colab\"/></a>"
      ]
    },
    {
      "cell_type": "markdown",
      "metadata": {
        "collapsed": true,
        "id": "OhjZfYvTRSc0"
      },
      "source": [
        "# Capstone project: Battle of Neighborhoods"
      ]
    },
    {
      "cell_type": "markdown",
      "metadata": {
        "id": "VdUjmYGlRSc1"
      },
      "source": [
        "###  Part 1: Introduction/Business Problem "
      ]
    },
    {
      "cell_type": "markdown",
      "metadata": {
        "id": "dV0md9xvRSc2"
      },
      "source": [
        "This Capstone project aims to help entrepreneurs and tourists with their questions regarding the best location to open their Korean restaurants or where to get the best local Korean food. \n",
        "\n",
        "Background: New York City is one of the world's most ethnically diverse cities and proudly hosting a wide range of international cuisines. Part of the main force that has been driving the regional culinary scene in New York City is the international immigration. In 2018, more than four million immigrants (foreign-born individuals) comprised 23% of the New York population (American Immigration Council data). In addition, New York is one of the top three metro areas in the US with the largest number of Korean population. The rise of Korean food in the US comes from increasing East Asian influences on the American diet. With a large local Korean population and international tourists from Asia, Korean food also received a lot of attention and popularity in New York in recent years, which can be seen in social media and fast growing number of Korean restaurants in the city. \n",
        "\n",
        "Given that, the purpose of this study is to help entrepreneurs who want to open a Korean restaurant in the city or tourists who are interested in trying Korean food in New York to pick a good venue/food location, For a potential restaurant owner, location is key to business success. For tourists who are always running short of time in a trip, limited time to do a comprehensive food research especially with a large number of choices provided by mobile apps and other free sources."
      ]
    },
    {
      "cell_type": "markdown",
      "metadata": {
        "id": "GF8NWn2VRSc3"
      },
      "source": [
        "### Part 2: Data"
      ]
    },
    {
      "cell_type": "markdown",
      "metadata": {
        "id": "deV-jkRnRSc3"
      },
      "source": [
        "This study requires the following data:\n",
        "1. New York data that contains all neighborhoods, boroughs, latitude, longitude. Datasource: https://cocl.us/new_york_dataset. Description: The raw geo data will be scraped and get the coordinates using geocoder class of Geopy client\n",
        "2. Restaurants in each neighborhood of New York. Datasource: FourSquare API. Description: All data related to locations and quality of Korean restaurants come from the FourSquare API using the Request library in Python API "
      ]
    }
  ]
}